{
  "nbformat": 4,
  "nbformat_minor": 0,
  "metadata": {
    "colab": {
      "name": "taiello_1914000_fds.ipynb",
      "provenance": [],
      "collapsed_sections": [],
      "toc_visible": true,
      "machine_shape": "hm"
    },
    "kernelspec": {
      "name": "python3",
      "display_name": "Python 3"
    },
    "accelerator": "GPU"
  },
  "cells": [
    {
      "cell_type": "markdown",
      "metadata": {
        "id": "TxKvb8LhHZd6",
        "colab_type": "text"
      },
      "source": [
        "# **Home Credit Default Risk**\n"
      ]
    },
    {
      "cell_type": "markdown",
      "metadata": {
        "id": "knouc8_ifGQH",
        "colab_type": "text"
      },
      "source": [
        "<h1> FDS - A.Y. 2019/2020</h1> </br>\n",
        "<h2>Students:</h2>\n",
        "\n",
        "*   Taiello Riccardo (1914000)\n",
        "\n",
        "</br>\n",
        "<h2>Professors:</h2>\n",
        "\n",
        "*  Bressan Marco\n",
        "* Galasso Fabio"
      ]
    },
    {
      "cell_type": "markdown",
      "metadata": {
        "id": "JMeVKpPRSpTK",
        "colab_type": "text"
      },
      "source": [
        "# Dependencies"
      ]
    },
    {
      "cell_type": "code",
      "metadata": {
        "id": "WAUz21BLcO1A",
        "colab_type": "code",
        "colab": {
          "base_uri": "https://localhost:8080/",
          "height": 122
        },
        "outputId": "730363dd-da33-4d0e-ed26-03a42785b68a"
      },
      "source": [
        "from google.colab import drive\n",
        "drive.mount('/content/drive')  "
      ],
      "execution_count": null,
      "outputs": [
        {
          "output_type": "stream",
          "text": [
            "Go to this URL in a browser: https://accounts.google.com/o/oauth2/auth?client_id=947318989803-6bn6qk8qdgf4n4g3pfee6491hc0brc4i.apps.googleusercontent.com&redirect_uri=urn%3aietf%3awg%3aoauth%3a2.0%3aoob&response_type=code&scope=email%20https%3a%2f%2fwww.googleapis.com%2fauth%2fdocs.test%20https%3a%2f%2fwww.googleapis.com%2fauth%2fdrive%20https%3a%2f%2fwww.googleapis.com%2fauth%2fdrive.photos.readonly%20https%3a%2f%2fwww.googleapis.com%2fauth%2fpeopleapi.readonly\n",
            "\n",
            "Enter your authorization code:\n",
            "··········\n",
            "Mounted at /content/drive\n"
          ],
          "name": "stdout"
        }
      ]
    },
    {
      "cell_type": "markdown",
      "metadata": {
        "id": "MKYhe3azchoq",
        "colab_type": "text"
      },
      "source": [
        "## **Dataset path**"
      ]
    },
    {
      "cell_type": "code",
      "metadata": {
        "id": "qG0StIg8cqXR",
        "colab_type": "code",
        "colab": {}
      },
      "source": [
        "GDRIVE_DIR = \"/content/drive\"\n",
        "GDRIVE_HOME_DIR = GDRIVE_DIR + \"/My Drive/Colab Notebooks\"\n",
        "GDRIVE_DATA_DIR = GDRIVE_HOME_DIR + \"/FDS/home-credit-default\""
      ],
      "execution_count": null,
      "outputs": []
    },
    {
      "cell_type": "code",
      "metadata": {
        "id": "qhCjUW_ccgr1",
        "colab_type": "code",
        "colab": {}
      },
      "source": [
        "PATH_DATASET = GDRIVE_DATA_DIR+\"/dataset/raw\"\n",
        "PATH_PREPROCESSED = GDRIVE_DATA_DIR+\"/dataset/processed\"\n",
        "PATH_PICKLE = GDRIVE_DATA_DIR+\"/pickle\"\n",
        "PATH_SUBMISSION = GDRIVE_DATA_DIR+\"/submission\""
      ],
      "execution_count": null,
      "outputs": []
    },
    {
      "cell_type": "code",
      "metadata": {
        "id": "fQNeTTDYQqn3",
        "colab_type": "code",
        "colab": {}
      },
      "source": [
        "SEED = 42"
      ],
      "execution_count": null,
      "outputs": []
    },
    {
      "cell_type": "markdown",
      "metadata": {
        "id": "fS2_X7_CS8zi",
        "colab_type": "text"
      },
      "source": [
        "# **Python import**"
      ]
    },
    {
      "cell_type": "code",
      "metadata": {
        "id": "DvvBr7E8JZwT",
        "colab_type": "code",
        "colab": {
          "base_uri": "https://localhost:8080/",
          "height": 71
        },
        "outputId": "2ba97dfb-cbe9-493a-90d1-79fed1b36cae"
      },
      "source": [
        "import pandas as pd\n",
        "import numpy as np\n",
        "import matplotlib.pyplot as plt\n",
        "import seaborn as sns\n",
        "import sklearn\n",
        "import gc\n",
        "from sklearn.metrics import roc_auc_score\n"
      ],
      "execution_count": null,
      "outputs": [
        {
          "output_type": "stream",
          "text": [
            "/usr/local/lib/python3.6/dist-packages/statsmodels/tools/_testing.py:19: FutureWarning: pandas.util.testing is deprecated. Use the functions in the public API at pandas.testing instead.\n",
            "  import pandas.util.testing as tm\n"
          ],
          "name": "stderr"
        }
      ]
    },
    {
      "cell_type": "code",
      "metadata": {
        "id": "APuk4xgrDCDl",
        "colab_type": "code",
        "colab": {}
      },
      "source": [
        "import time\n",
        "from contextlib import contextmanager"
      ],
      "execution_count": null,
      "outputs": []
    },
    {
      "cell_type": "markdown",
      "metadata": {
        "id": "0q8HuKyTmnbG",
        "colab_type": "text"
      },
      "source": [
        "#**1. Preprocessing**"
      ]
    },
    {
      "cell_type": "code",
      "metadata": {
        "id": "Nq9rSyukDRep",
        "colab_type": "code",
        "colab": {}
      },
      "source": [
        "@contextmanager\n",
        "def timer(title):\n",
        "    t0 = time.time()\n",
        "    yield\n",
        "    print(\"{} - done in {:.0f}s\".format(title, time.time() - t0))"
      ],
      "execution_count": null,
      "outputs": []
    },
    {
      "cell_type": "code",
      "metadata": {
        "id": "29Ebt7jZxmwJ",
        "colab_type": "code",
        "cellView": "code",
        "colab": {}
      },
      "source": [
        "#@title 1.1. Convert Types\n",
        "def convert_types(df, to_categorize = False, print_info = True):\n",
        "    '''Shrink down as much as we can the size of the dataframes.'''\n",
        "    import pandas as pd\n",
        "    import numpy as np\n",
        "    original_memory = df.memory_usage().sum()\n",
        "\n",
        "    # Convert the nan values into the standard way\n",
        "    df.replace(['nan'], np.nan,inplace = True)\n",
        "    # ids to integers\n",
        "    id_feature = [col for col in df if 'SK_ID' in col]\n",
        "    if id_feature:\n",
        "     df.loc[:,id_feature] = df[id_feature].fillna(0).astype(np.int32)\n",
        "\n",
        "    # Objects to category\n",
        "    category_features = [col for col in df if df[col].dtype == 'object']\n",
        "    if category_features:\n",
        "      if to_categorize:\n",
        "        df.loc[:,category_features] = df[category_features].apply(lambda col : pd.Categorical(col).codes)\n",
        "        \n",
        "        df.loc[:,category_features] = df[category_features].replace({-1:np.nan}) # Fix pd.Categorical(col) which returns -1 as NaN value\n",
        "      \n",
        "      df.loc[:,category_features] = df[category_features].astype('category')\n",
        "    # Float64 to float32\n",
        "    float_features = [col for col in df if df[col].dtype == float ]\n",
        "    if float_features:\n",
        "      df.loc[:,float_features] = df[float_features].astype(np.float32)    \n",
        "\n",
        "    # Int64 to int32\n",
        "    integer_features = [col for col in df if df[col].dtype == int ]\n",
        "    if integer_features:\n",
        "      df.loc[:,integer_features] = df[integer_features].astype(np.int32)\n",
        "\n",
        "    # Boolean \n",
        "    '''\n",
        "    binary_features = [col for col in df if df[col].nunique() == 2 ]\n",
        "    if binary_features:\n",
        "      df[binary_features] = df[binary_features].astype(np.int32) # IMPORTANT TO DEAL WITH NaN VALUES (don't use bool)\n",
        "      print(df.CODE_GENDER.value_counts())\n",
        "    '''\n",
        "\n",
        "    new_memory = df.memory_usage().sum()\n",
        "    \n",
        "    if print_info:\n",
        "        print(f'Original Memory Usage: {round(original_memory / 1e9, 2)} gb.')\n",
        "        print(f'New Memory Usage: {round(new_memory / 1e9, 2)} gb.')\n",
        "        \n",
        "    return df"
      ],
      "execution_count": null,
      "outputs": []
    },
    {
      "cell_type": "code",
      "metadata": {
        "id": "JJVXF_pYC2uW",
        "colab_type": "code",
        "cellView": "code",
        "colab": {}
      },
      "source": [
        "#@title 1.2. Label Encoder\n",
        "def label_encoder(df):\n",
        "  '''Map the cateogory features into integer values'''\n",
        "    from sklearn.preprocessing import LabelEncoder\n",
        "    # get the columns\n",
        "    original_columns = list(df.columns)\n",
        "    categorical_columns = df.select_dtypes(include=['category']).columns.to_list()\n",
        "    for c in categorical_columns:\n",
        "        LE = LabelEncoder()\n",
        "        df[c] = LE.fit_transform(list(df[c].values.astype('str')))\n",
        "    # df = pd.get_dummies(df, columns= categorical_columns, dummy_na= False)\n",
        "    new_columns = [c for c in df.columns if c not in original_columns]\n",
        "    return df, new_columns"
      ],
      "execution_count": null,
      "outputs": []
    },
    {
      "cell_type": "code",
      "metadata": {
        "id": "RVubE6PuXa7y",
        "colab_type": "code",
        "cellView": "code",
        "colab": {}
      },
      "source": [
        "#@title 1.3. Clean Null Value\n",
        "def clean_null_value(df,percent=60):\n",
        "    mean_null = df.isnull().mean() * 100\n",
        "    col_removed = mean_null[mean_null >= percent].index.tolist()\n",
        "    return col_removed"
      ],
      "execution_count": null,
      "outputs": []
    },
    {
      "cell_type": "markdown",
      "metadata": {
        "id": "GAs7jbyvmyw6",
        "colab_type": "text"
      },
      "source": [
        "# **2. Load Dataset**"
      ]
    },
    {
      "cell_type": "code",
      "metadata": {
        "id": "-E79dxws1cfp",
        "colab_type": "code",
        "cellView": "code",
        "colab": {}
      },
      "source": [
        "#@title 2.1. Load Application\n",
        "def load_application(df):\n",
        "    df = df[df['CODE_GENDER'] != 'XNA']\n",
        "    \n",
        "    # Categorical features with Binary encode (0 or 1; two categories)\n",
        "    \n",
        "    for bin_feature in ['CODE_GENDER', 'FLAG_OWN_CAR', 'FLAG_OWN_REALTY']:\n",
        "        df[bin_feature], uniques = pd.factorize(df[bin_feature])\n",
        "    df = convert_types(df, to_categorize=False, print_info=True)\n",
        "\n",
        "    # Categorical features with One-Hot encode\n",
        "    df, cat_cols = label_encoder(df)\n",
        "    # NaN values for DAYS_EMPLOYED: 365.243 -> nan\n",
        "    df['DAYS_EMPLOYED'].replace(365243, np.nan, inplace= True)\n",
        "    # Some simple new features (percentages)\n",
        "    df['DAYS_EMPLOYED_PERC'] = df['DAYS_EMPLOYED'] / df['DAYS_BIRTH']\n",
        "    df['INCOME_CREDIT_PERC'] = df['AMT_INCOME_TOTAL'] / df['AMT_CREDIT']\n",
        "    df['INCOME_PER_PERSON'] = df['AMT_INCOME_TOTAL'] / df['CNT_FAM_MEMBERS']\n",
        "    df['ANNUITY_INCOME_PERC'] = df['AMT_ANNUITY'] / df['AMT_INCOME_TOTAL']\n",
        "    df['PAYMENT_RATE'] = df['AMT_ANNUITY'] / df['AMT_CREDIT']\n",
        "    return df"
      ],
      "execution_count": null,
      "outputs": []
    },
    {
      "cell_type": "code",
      "metadata": {
        "id": "2fekKdNtiFKk",
        "colab_type": "code",
        "cellView": "code",
        "colab": {}
      },
      "source": [
        "#@title 2.2. Load Bureau & Balance\n",
        "def bureau_and_balance(num_rows = None, nan_as_category = True):\n",
        "    bureau = pd.read_csv(PATH_DATASET+'/bureau.csv', nrows = num_rows)\n",
        "    # bureau = clean_null_value(bureau) \n",
        "    bureau = convert_types(bureau, to_categorize=False,print_info=True)\n",
        "    bb = pd.read_csv(PATH_DATASET+'/bureau_balance.csv',nrows = num_rows)\n",
        "    # bb = clean_null_value(bb) \n",
        "    bb = convert_types(bb,  to_categorize=False, print_info=True)\n",
        "    bb, bb_cat = label_encoder(bb)\n",
        "    bureau, bureau_cat = label_encoder(bureau)\n",
        "    # Bureau balance: Perform aggregations and merge with bureau.csv\n",
        "    bb_aggregations = {'MONTHS_BALANCE': ['min', 'max', 'size']}\n",
        "    for col in bb_cat:\n",
        "        bb_aggregations[col] = ['mean']\n",
        "    bb_agg = bb.groupby('SK_ID_BUREAU').agg(bb_aggregations)\n",
        "    bb_agg.columns = pd.Index([e[0] + \"_\" + e[1].upper() for e in bb_agg.columns.tolist()])\n",
        "    bureau = bureau.join(bb_agg, how='left', on='SK_ID_BUREAU')\n",
        "    bureau.drop(['SK_ID_BUREAU'], axis=1, inplace= True)\n",
        "    del bb, bb_agg\n",
        "    gc.collect()\n",
        "    \n",
        "    # Bureau and bureau_balance numeric features\n",
        "    num_aggregations = {\n",
        "        'DAYS_CREDIT': ['min', 'max', 'mean', 'var'],\n",
        "        'DAYS_CREDIT_ENDDATE': ['var', 'mean'],\n",
        "        'DAYS_CREDIT_UPDATE': ['mean'],\n",
        "        'CREDIT_DAY_OVERDUE': ['var', 'mean'],\n",
        "        'AMT_CREDIT_MAX_OVERDUE': ['mean'],\n",
        "        'AMT_CREDIT_SUM': ['max', 'mean', 'var'],\n",
        "        'AMT_CREDIT_SUM_DEBT': ['max', 'mean', 'var'],\n",
        "        'AMT_CREDIT_SUM_OVERDUE': ['mean'],\n",
        "        'AMT_CREDIT_SUM_LIMIT': ['mean', 'var'],\n",
        "        'AMT_ANNUITY': ['max', 'mean'],\n",
        "        'CNT_CREDIT_PROLONG': ['sum'],\n",
        "        'MONTHS_BALANCE_MIN': ['min'],\n",
        "        'MONTHS_BALANCE_MAX': ['max'],\n",
        "        'MONTHS_BALANCE_SIZE': ['mean', 'var']\n",
        "    }\n",
        "    bureau_agg = bureau.groupby('SK_ID_CURR').agg({**num_aggregations})\n",
        "    bureau_agg.columns = pd.Index(['BURO_' + col[0] + \"_\" + col[1].upper() for col in bureau_agg.columns.tolist()])\n",
        "\n",
        "    del bureau\n",
        "    gc.collect()\n",
        "    return bureau_agg"
      ],
      "execution_count": null,
      "outputs": []
    },
    {
      "cell_type": "code",
      "metadata": {
        "id": "epQ-H30UiJyI",
        "colab_type": "code",
        "cellView": "code",
        "colab": {}
      },
      "source": [
        "#@title 2.3. Load Previous Application\n",
        "# Preprocess previous_applications.csv\n",
        "def previous_applications(num_rows = None, nan_as_category = True):\n",
        "    prev = pd.read_csv(PATH_DATASET+'/previous_application.csv', nrows = num_rows)\n",
        "    # prev = clean_null_value(prev) \n",
        "    prev = convert_types(prev, to_categorize=False,print_info=True)\n",
        "    prev, cat_cols = label_encoder(prev)\n",
        "    # Days 365.243 values -> nan\n",
        "    prev['DAYS_FIRST_DRAWING'].replace(365243, np.nan, inplace= True)\n",
        "    prev['DAYS_FIRST_DUE'].replace(365243, np.nan, inplace= True)\n",
        "    prev['DAYS_LAST_DUE_1ST_VERSION'].replace(365243, np.nan, inplace= True)\n",
        "    prev['DAYS_LAST_DUE'].replace(365243, np.nan, inplace= True)\n",
        "    prev['DAYS_TERMINATION'].replace(365243, np.nan, inplace= True)\n",
        "    # Add feature: value ask / value received percentage\n",
        "    prev['APP_CREDIT_PERC'] = prev['AMT_APPLICATION'] / prev['AMT_CREDIT']\n",
        "    # Previous applications numeric features\n",
        "    num_aggregations = {\n",
        "        'AMT_ANNUITY': ['min', 'max', 'mean'],\n",
        "        'AMT_APPLICATION': ['min', 'max', 'mean'],\n",
        "        'AMT_CREDIT': ['min', 'max', 'mean'],\n",
        "        'APP_CREDIT_PERC': ['min', 'max', 'mean', 'var'],\n",
        "        'AMT_DOWN_PAYMENT': ['min', 'max', 'mean'],\n",
        "        'AMT_GOODS_PRICE': ['min', 'max', 'mean'],\n",
        "        'HOUR_APPR_PROCESS_START': ['min', 'max', 'mean'],\n",
        "        'RATE_DOWN_PAYMENT': ['min', 'max', 'mean'],\n",
        "        'DAYS_DECISION': ['min', 'max', 'mean'],\n",
        "        'CNT_PAYMENT': ['mean', 'var'],\n",
        "    }\n",
        "    # Previous applications categorical features\n",
        "    prev_agg = prev.groupby('SK_ID_CURR').agg({**num_aggregations})\n",
        "    prev_agg.columns = pd.Index(['PREV_' + col[0] + \"_\" + col[1].upper() for col in prev_agg.columns.tolist()])\n",
        "\n",
        "    del prev\n",
        "    gc.collect()\n",
        "    return prev_agg"
      ],
      "execution_count": null,
      "outputs": []
    },
    {
      "cell_type": "code",
      "metadata": {
        "id": "OZ3QF1HHiMyf",
        "colab_type": "code",
        "cellView": "code",
        "colab": {}
      },
      "source": [
        "#@title 2.4. Load PosCash Balance\n",
        "# Preprocess POS_CASH_balance.csv\n",
        "def pos_cash(num_rows = None, nan_as_category = True):\n",
        "    pos = pd.read_csv(PATH_DATASET+'/POS_CASH_balance.csv', nrows = num_rows)\n",
        "    # pos = clean_null_value(pos) \n",
        "    pos = convert_types(pos, to_categorize=False,print_info=True)\n",
        "    pos, cat_cols = label_encoder(pos)\n",
        "    # Features\n",
        "    aggregations = {\n",
        "        'MONTHS_BALANCE': ['max', 'mean', 'size'],\n",
        "        'SK_DPD': ['max', 'mean','var'],\n",
        "        'SK_DPD_DEF': ['max', 'mean','var']\n",
        "    }    \n",
        "    pos_agg = pos.groupby('SK_ID_CURR').agg(aggregations)\n",
        "    pos_agg.columns = pd.Index(['POS_' + e[0] + \"_\" + e[1].upper() for e in pos_agg.columns.tolist()])\n",
        "    # Count pos cash accounts\n",
        "    pos_agg['POS_COUNT'] = pos.groupby('SK_ID_CURR').size()\n",
        "    del pos\n",
        "    gc.collect()\n",
        "    return pos_agg\n",
        "    \n"
      ],
      "execution_count": null,
      "outputs": []
    },
    {
      "cell_type": "code",
      "metadata": {
        "id": "hTU4QHZbiQQC",
        "colab_type": "code",
        "cellView": "code",
        "colab": {}
      },
      "source": [
        "#@title 2.5. Load Installments Payments\n",
        "# Preprocess installments_payments.csv\n",
        "def installments_payments(num_rows = None, nan_as_category = True):\n",
        "    ins = pd.read_csv(PATH_DATASET+'/installments_payments.csv', nrows = num_rows)\n",
        "   # ins = clean_null_value(ins) \n",
        "    ins = convert_types(ins, to_categorize=False,print_info=True)\n",
        "    ins, cat_cols = label_encoder(ins)\n",
        "    # Percentage and difference paid in each installment (amount paid and installment value)\n",
        "    ins['PAYMENT_PERC'] = ins['AMT_PAYMENT'] / ins['AMT_INSTALMENT']\n",
        "    ins['PAYMENT_DIFF'] = ins['AMT_INSTALMENT'] - ins['AMT_PAYMENT']\n",
        "    # Days past due and days before due (no negative values)\n",
        "    ins['DPD'] = ins['DAYS_ENTRY_PAYMENT'] - ins['DAYS_INSTALMENT']\n",
        "    ins['DBD'] = ins['DAYS_INSTALMENT'] - ins['DAYS_ENTRY_PAYMENT']\n",
        "    ins['DPD'] = ins['DPD'].apply(lambda x: x if x > 0 else 0)\n",
        "    ins['DBD'] = ins['DBD'].apply(lambda x: x if x > 0 else 0)\n",
        "    # Features: Perform aggregations\n",
        "    aggregations = {\n",
        "        'NUM_INSTALMENT_VERSION': ['nunique'],\n",
        "        'DPD': ['max', 'mean', 'var'],\n",
        "        'DBD': ['max', 'mean', 'sum'],\n",
        "        'PAYMENT_PERC': ['max', 'mean', 'sum', 'var'],\n",
        "        'PAYMENT_DIFF': ['max', 'mean', 'sum', 'var'],\n",
        "        'AMT_INSTALMENT': ['max', 'mean', 'sum'],\n",
        "        'AMT_PAYMENT': ['min', 'max', 'mean', 'sum'],\n",
        "        'DAYS_ENTRY_PAYMENT': ['max', 'mean', 'sum']\n",
        "    }\n",
        "    ins_agg = ins.groupby('SK_ID_CURR').agg(aggregations)\n",
        "    ins_agg.columns = pd.Index(['INSTAL_' + col[0] + \"_\" + col[1].upper() for col in ins_agg.columns.tolist()])\n",
        "\n",
        "    ins_agg['INSTAL_COUNT'] = ins.groupby('SK_ID_CURR').size()\n",
        "    del ins\n",
        "    gc.collect()        \n",
        "    return ins_agg"
      ],
      "execution_count": null,
      "outputs": []
    },
    {
      "cell_type": "code",
      "metadata": {
        "id": "jejsOc8GBibv",
        "colab_type": "code",
        "cellView": "code",
        "colab": {}
      },
      "source": [
        "#@title 2.5. Load Credit Card Balance\n",
        "# Preprocess credit_card_balance.csv\n",
        "def credit_card_balance(num_rows = None, nan_as_category = True):\n",
        "    cc = pd.read_csv(PATH_DATASET+'/credit_card_balance.csv', nrows = num_rows)\n",
        "    # cc = clean_null_value(cc) \n",
        "    cc = convert_types(cc, to_categorize=False,print_info=True)\n",
        "    cc, cat_cols = label_encoder(cc)\n",
        "    # General aggregations\n",
        "    cc.drop(['SK_ID_PREV'], axis= 1, inplace = True)\n",
        "    cc_agg = cc.groupby('SK_ID_CURR').agg(['min', 'max', 'mean', 'sum', 'var'])\n",
        "    cc_agg.columns = pd.Index(['CC_' + e[0] + \"_\" + e[1].upper() for e in cc_agg.columns.tolist()])\n",
        "    # Count credit card lines\n",
        "    cc_agg['CC_COUNT'] = cc.groupby('SK_ID_CURR').size()\n",
        "    del cc\n",
        "    gc.collect()\n",
        "    return cc_agg\n"
      ],
      "execution_count": null,
      "outputs": []
    },
    {
      "cell_type": "code",
      "metadata": {
        "id": "HxDKvwpECMWT",
        "colab_type": "code",
        "colab": {}
      },
      "source": [
        "def join_all_df(df):\n",
        "    num_rows = None\n",
        "    with timer(\"Load Application\"):\n",
        "        df = load_application(df)\n",
        "        print(\"Train & test shape \", df.shape)\n",
        "    with timer(\"Process bureau and bureau_balance\"):\n",
        "        bureau = bureau_and_balance(num_rows)\n",
        "        print(\"Bureau df shape:\", bureau.shape)\n",
        "        df = df.join(bureau, how='left', on='SK_ID_CURR')\n",
        "        del bureau\n",
        "        gc.collect()\n",
        "    with timer(\"Process previous_applications\"):\n",
        "        prev = previous_applications(num_rows)\n",
        "        print(\"Previous applications df shape:\", prev.shape)\n",
        "        df = df.join(prev, how='left', on='SK_ID_CURR')\n",
        "        del prev\n",
        "        gc.collect()\n",
        "    with timer(\"Process POS-CASH balance\"):\n",
        "        pos = pos_cash(num_rows)\n",
        "        print(\"Pos-cash balance df shape:\", pos.shape)\n",
        "        df = df.join(pos, how='left', on='SK_ID_CURR')\n",
        "        del pos\n",
        "        gc.collect()\n",
        "    with timer(\"Process installments payments\"):\n",
        "        ins = installments_payments(num_rows)\n",
        "        print(\"Installments payments df shape:\", ins.shape)\n",
        "        df = df.join(ins, how='left', on='SK_ID_CURR')\n",
        "        del ins\n",
        "        gc.collect()\n",
        "    with timer(\"Process credit card balance\"):\n",
        "        cc = credit_card_balance(num_rows)\n",
        "        print(\"Credit card balance df shape:\", cc.shape)\n",
        "        df = df.join(cc, how='left', on='SK_ID_CURR')\n",
        "        del cc\n",
        "        gc.collect()\n",
        "    return df"
      ],
      "execution_count": null,
      "outputs": []
    },
    {
      "cell_type": "markdown",
      "metadata": {
        "id": "yof_0rovWH0-",
        "colab_type": "text"
      },
      "source": [
        "# **3. Create & Join Dataset**"
      ]
    },
    {
      "cell_type": "code",
      "metadata": {
        "id": "2MIcSg9SVKIu",
        "colab_type": "code",
        "colab": {}
      },
      "source": [
        "SPEED = True"
      ],
      "execution_count": null,
      "outputs": []
    },
    {
      "cell_type": "code",
      "metadata": {
        "id": "-I0i4Sh5Jlc-",
        "colab_type": "code",
        "cellView": "code",
        "colab": {}
      },
      "source": [
        "#@title Load Train and Test from .csv \n",
        "application_train = pd.read_csv(PATH_DATASET+\"/application_train.csv\")\n",
        "application_test = pd.read_csv(PATH_DATASET+\"/application_test.csv\")"
      ],
      "execution_count": null,
      "outputs": []
    },
    {
      "cell_type": "code",
      "metadata": {
        "id": "hyd0WsCQiapj",
        "colab_type": "code",
        "cellView": "code",
        "colab": {}
      },
      "source": [
        "#@title Merge *application* with the remains dataset\n",
        "if SPEED:\n",
        "  df = pd.read_csv(PATH_PREPROCESSED+\"/merged_test.csv\")\n",
        "  # X_train_mice = pd.read_csv(PATH_PREPROCESSED+\"/imputed/mice/mice_imputed.csv\")\n",
        "  #SELECTED_FEATURES = list(df.drop(columns=['TARGET']).columns)\n",
        "  # df.loc[:,SELECTED_FEATURES] = X_train_mice\n",
        "else:\n",
        "  df = application_train.append(application_test).reset_index() \n",
        "  df = join_all_df(df)"
      ],
      "execution_count": null,
      "outputs": []
    },
    {
      "cell_type": "code",
      "metadata": {
        "id": "NdfTA8gQiloz",
        "colab_type": "code",
        "cellView": "code",
        "colab": {
          "base_uri": "https://localhost:8080/",
          "height": 292
        },
        "outputId": "9a18085a-f344-47c2-f694-ba55b020ff66"
      },
      "source": [
        "#@title 3.1. Split the merged dataset into Train and Test\n",
        "train_df, test_df = df.iloc[:len(application_train)], df.iloc[len(application_train):]\n",
        "train_df, test_df = convert_types(train_df), convert_types(test_df)"
      ],
      "execution_count": null,
      "outputs": [
        {
          "output_type": "stream",
          "text": [
            "/usr/local/lib/python3.6/dist-packages/pandas/core/frame.py:4172: SettingWithCopyWarning: \n",
            "A value is trying to be set on a copy of a slice from a DataFrame\n",
            "\n",
            "See the caveats in the documentation: https://pandas.pydata.org/pandas-docs/stable/user_guide/indexing.html#returning-a-view-versus-a-copy\n",
            "  method=method,\n",
            "/usr/local/lib/python3.6/dist-packages/pandas/core/indexing.py:966: SettingWithCopyWarning: \n",
            "A value is trying to be set on a copy of a slice from a DataFrame.\n",
            "Try using .loc[row_indexer,col_indexer] = value instead\n",
            "\n",
            "See the caveats in the documentation: https://pandas.pydata.org/pandas-docs/stable/user_guide/indexing.html#returning-a-view-versus-a-copy\n",
            "  self.obj[item] = s\n"
          ],
          "name": "stderr"
        },
        {
          "output_type": "stream",
          "text": [
            "Original Memory Usage: 0.8 gb.\n",
            "New Memory Usage: 0.4 gb.\n",
            "Original Memory Usage: 0.13 gb.\n",
            "New Memory Usage: 0.06 gb.\n"
          ],
          "name": "stdout"
        }
      ]
    },
    {
      "cell_type": "code",
      "metadata": {
        "id": "f27dl76EN_NV",
        "colab_type": "code",
        "colab": {
          "base_uri": "https://localhost:8080/",
          "height": 51
        },
        "outputId": "5358fb40-d66b-476c-9da4-5a5125cda0f4"
      },
      "source": [
        "print(\"The shape of the train dataset is:\",train_df.shape)\n",
        "print(\"The shape of the test dataset is:\",test_df.shape)"
      ],
      "execution_count": null,
      "outputs": [
        {
          "output_type": "stream",
          "text": [
            "The shape of the train dataset is: (307511, 326)\n",
            "The shape of the test dataset is: (48744, 326)\n"
          ],
          "name": "stdout"
        }
      ]
    },
    {
      "cell_type": "code",
      "metadata": {
        "id": "izEuxyx9KRHn",
        "colab_type": "code",
        "colab": {}
      },
      "source": [
        "#train_df.loc[train_df.PAYMENT_RATE < 0.031037, 'PAYMENT_RATE'\t] = 0.031037"
      ],
      "execution_count": null,
      "outputs": []
    },
    {
      "cell_type": "code",
      "metadata": {
        "id": "Ttlhhwaxlv9s",
        "colab_type": "code",
        "cellView": "code",
        "colab": {}
      },
      "source": [
        "#@title 3.2. Extract features lists\n",
        "def get_features_lists(df, target_variable = \"TARGET\", numerical = True, categorical = True, binary = True):\n",
        "  # Take categorical features\n",
        "  CATEGORICAL_FEATURES =  set(df.select_dtypes(include=['category']).columns.to_list())\n",
        "  \n",
        "  # Take binary features\n",
        "  BINARY_FEATURES = [col for col in df if df[col].nunique() == 2 ]\n",
        "  \n",
        "  # include=['category'] also include binary feature, we subtract the intersection between the two feature list\n",
        "  CATEGORICAL_FEATURES -= set(BINARY_FEATURES) \n",
        "  CATEGORICAL_FEATURES = list(CATEGORICAL_FEATURES)\n",
        "\n",
        "  if target_variable is not None:  \n",
        "    BINARY_FEATURES.remove('TARGET')\n",
        "  \n",
        "  # Take float features\n",
        "  FLOAT_FEATURES = df.select_dtypes(include=['float32','float64']).columns.to_list()\n",
        "  \n",
        "  # Take integer features. Binary are int, we exclude all binary features\n",
        "  INTEGER_FEATURES = [col for col in df if df[col].nunique() > 2 and (df[col].dtype == 'int32'or df[col].dtype == 'int64')] \n",
        "  \n",
        "\n",
        "  return CATEGORICAL_FEATURES, FLOAT_FEATURES, BINARY_FEATURES, INTEGER_FEATURES"
      ],
      "execution_count": null,
      "outputs": []
    },
    {
      "cell_type": "code",
      "metadata": {
        "id": "pYeuV13-Hdzy",
        "colab_type": "code",
        "colab": {}
      },
      "source": [
        "CATEGORICAL_FEATURES, FLOAT_FEATURES, BINARY_FEATURES, INTEGER_FEATURES = get_features_lists(train_df)"
      ],
      "execution_count": null,
      "outputs": []
    },
    {
      "cell_type": "code",
      "metadata": {
        "id": "fgHtchXUQM6C",
        "colab_type": "code",
        "colab": {}
      },
      "source": [
        "# Split train dataset in order to isolate the taget variable\n",
        "X_train = train_df.drop(columns=[\"TARGET\"])\n",
        "y_train = train_df.TARGET"
      ],
      "execution_count": null,
      "outputs": []
    },
    {
      "cell_type": "markdown",
      "metadata": {
        "id": "LnbSum3gsNYO",
        "colab_type": "text"
      },
      "source": [
        "# **4. Missing Data Imputation**"
      ]
    },
    {
      "cell_type": "code",
      "metadata": {
        "id": "Ik14v0sr4wSf",
        "colab_type": "code",
        "colab": {}
      },
      "source": [
        "USE_PICKLE = True"
      ],
      "execution_count": null,
      "outputs": []
    },
    {
      "cell_type": "code",
      "metadata": {
        "id": "rowtgsB5vrwn",
        "colab_type": "code",
        "colab": {}
      },
      "source": [
        "def imputation(df, imputer , filename_imputer :str, use_pickle=True):\n",
        "    import pickle\n",
        "    df = df.replace([np.inf, -np.inf], np.nan)\n",
        "    imp_pickle_filename = PATH_PICKLE+filename_imputer\n",
        "    if use_pickle is False:\n",
        "      imputer.fit(df)\n",
        "      with open(imp_pickle_filename, \"wb\") as imp_pickle:\n",
        "        pickle.dump(imputer, imp_pickle)\n",
        "    else:\n",
        "      with open(imp_pickle_filename, \"rb\") as imp_pickle:\n",
        "        imputer = pickle.load(imp_pickle)\n",
        "    df.iloc[:,:] = imputer.transform(df)\n",
        "    return df, imputer"
      ],
      "execution_count": null,
      "outputs": []
    },
    {
      "cell_type": "code",
      "metadata": {
        "id": "A4JeTTt8RDAS",
        "colab_type": "code",
        "colab": {}
      },
      "source": [
        "X_train_mice = X_train.copy(deep=True)"
      ],
      "execution_count": null,
      "outputs": []
    },
    {
      "cell_type": "code",
      "metadata": {
        "id": "RpIPza9d40lv",
        "colab_type": "code",
        "cellView": "code",
        "colab": {}
      },
      "source": [
        "#@title 4.1. MICE Data Missing Imputation\n",
        "def mice_imputation(df, features: list, strategy: str = 'mean', use_pickle:bool= True):\n",
        "  from sklearn.experimental import enable_iterative_imputer\n",
        "  from sklearn.impute import IterativeImputer\n",
        "  from sklearn.neighbors import KNeighborsRegressor\n",
        "\n",
        "  mice_imp_pickle_filename = \"/mice_imputer_fit.pkl\"\n",
        "  estimator = KNeighborsRegressor(n_neighbors=15,n_jobs=-1)\n",
        "  mice_imputer = IterativeImputer(max_iter=5, random_state=SEED, initial_strategy=strategy,verbose = 2,skip_complete= True,estimator=estimator)\n",
        "  df[features], mice_imputer = imputation(df[features], mice_imputer , filename_imputer = mice_imp_pickle_filename,use_pickle=use_pickle)\n",
        "  return df, mice_imputer"
      ],
      "execution_count": null,
      "outputs": []
    },
    {
      "cell_type": "code",
      "metadata": {
        "id": "m_OdakCr8Lsg",
        "colab_type": "code",
        "colab": {
          "base_uri": "https://localhost:8080/"
        },
        "outputId": "78143d47-7dd2-466d-e5b8-60c64a1a59b6"
      },
      "source": [
        "SELECTED_FEATURES = X_train.columns.to_list()\n",
        "X_train_mice.loc[:,SELECTED_FEATURES], mice_imp_transformer = mice_imputation(X_train_mice.loc[:,SELECTED_FEATURES], features=SELECTED_FEATURES, use_pickle=USE_PICKLE)"
      ],
      "execution_count": null,
      "outputs": [
        {
          "output_type": "stream",
          "text": [
            "/usr/local/lib/python3.6/dist-packages/sklearn/base.py:318: UserWarning: Trying to unpickle estimator KNeighborsRegressor from version 0.22.1 when using version 0.22.2.post1. This might lead to breaking code or invalid results. Use at your own risk.\n",
            "  UserWarning)\n",
            "/usr/local/lib/python3.6/dist-packages/sklearn/base.py:318: UserWarning: Trying to unpickle estimator SimpleImputer from version 0.22.1 when using version 0.22.2.post1. This might lead to breaking code or invalid results. Use at your own risk.\n",
            "  UserWarning)\n",
            "/usr/local/lib/python3.6/dist-packages/sklearn/base.py:318: UserWarning: Trying to unpickle estimator IterativeImputer from version 0.22.1 when using version 0.22.2.post1. This might lead to breaking code or invalid results. Use at your own risk.\n",
            "  UserWarning)\n"
          ],
          "name": "stderr"
        },
        {
          "output_type": "stream",
          "text": [
            "[IterativeImputer] Completing matrix with shape (307511, 325)\n",
            "[IterativeImputer] Ending imputation round 1/2, elapsed time 2760.48\n"
          ],
          "name": "stdout"
        }
      ]
    },
    {
      "cell_type": "code",
      "metadata": {
        "id": "M0O6bJXoCcfD",
        "colab_type": "code",
        "colab": {
          "base_uri": "https://localhost:8080/",
          "height": 71
        },
        "outputId": "3b5efc4d-96a8-465b-fad4-09d2daa5f8ba"
      },
      "source": [
        "test_df.loc[:,SELECTED_FEATURES] = mice_imp_transformer.transform(test_df[SELECTED_FEATURES])"
      ],
      "execution_count": null,
      "outputs": [
        {
          "output_type": "stream",
          "text": [
            "[IterativeImputer] Completing matrix with shape (61502, 316)\n",
            "[IterativeImputer] Ending imputation round 1/2, elapsed time 215.46\n",
            "[IterativeImputer] Ending imputation round 2/2, elapsed time 397.32\n"
          ],
          "name": "stdout"
        }
      ]
    },
    {
      "cell_type": "code",
      "metadata": {
        "id": "WuLWBteOBTka",
        "colab_type": "code",
        "colab": {}
      },
      "source": [
        "def clean_imputation(df) -> None:\n",
        "    # modify in place, return no needed\n",
        "    \n",
        "    df[BINARY_FEATURES] = df[BINARY_FEATURES].round().astype(np.bool)\n",
        "    df[INTEGER_FEATURES] = df[INTEGER_FEATURES].round().astype(np.int32)\n",
        "    df[CATEGORICAL_FEATURES] = df[CATEGORICAL_FEATURES].round().astype(np.int32)"
      ],
      "execution_count": null,
      "outputs": []
    },
    {
      "cell_type": "code",
      "metadata": {
        "id": "ctubt01bCJdE",
        "colab_type": "code",
        "colab": {}
      },
      "source": [
        "CATEGORICAL_FEATURES, FLOAT_FEATURES, BINARY_FEATURES, INTEGER_FEATURES = get_features_lists(train_df[list(X_train.columns)],target_variable=None)\n",
        "clean_imputation(X_train_mice.loc[:,list(X_train.columns)])"
      ],
      "execution_count": null,
      "outputs": []
    },
    {
      "cell_type": "code",
      "metadata": {
        "id": "8kRxk4lfW46o",
        "colab_type": "code",
        "colab": {
          "base_uri": "https://localhost:8080/",
          "height": 51
        },
        "outputId": "eb09c1e7-08a4-4e53-f14e-930cfa9df751"
      },
      "source": [
        "X_train_mice = convert_types(X_train_mice)"
      ],
      "execution_count": null,
      "outputs": [
        {
          "output_type": "stream",
          "text": [
            "Original Memory Usage: 0.93 gb.\n",
            "New Memory Usage: 0.46 gb.\n"
          ],
          "name": "stdout"
        }
      ]
    },
    {
      "cell_type": "code",
      "metadata": {
        "id": "IG6jZh-RW97A",
        "colab_type": "code",
        "colab": {}
      },
      "source": [
        "train_df = convert_types(train_df)"
      ],
      "execution_count": null,
      "outputs": []
    },
    {
      "cell_type": "markdown",
      "metadata": {
        "id": "uL-G8hTdTqj6",
        "colab_type": "text"
      },
      "source": [
        "# **5. Feature engineering**"
      ]
    },
    {
      "cell_type": "code",
      "metadata": {
        "id": "cGzZ9Ve2z6au",
        "colab_type": "code",
        "cellView": "code",
        "colab": {}
      },
      "source": [
        "#@title Log Transformation\n",
        "def log_transformation(feature):\n",
        "  from sklearn.preprocessing import PowerTransformer\n",
        "\n",
        "  log_trasformer = PowerTransformer() # log transformation\n",
        "  target_feature = feature.to_numpy().reshape(-1,1)\n",
        "\n",
        "\n",
        "  log_trasformer.fit(target_feature)\n",
        "  log_scaled_feature = log_trasformer.transform(target_feature)\n",
        "  return log_scaled_feature,log_trasformer"
      ],
      "execution_count": null,
      "outputs": []
    },
    {
      "cell_type": "code",
      "metadata": {
        "id": "YKtMFTdQ1sLx",
        "colab_type": "code",
        "cellView": "code",
        "colab": {}
      },
      "source": [
        "#@title Standard Scaler Transformation\n",
        "def std_transformation(feature):\n",
        "  from sklearn.preprocessing import StandardScaler\n",
        "\n",
        "  std_trasformer = StandardScaler() # std transformation\n",
        "  target_feature = feature.to_numpy().reshape(-1,1)\n",
        "\n",
        "\n",
        "  std_trasformer.fit(target_feature)\n",
        "  std_scaled_feature = std_trasformer.transform(target_feature)\n",
        "  return std_scaled_feature,std_trasformer"
      ],
      "execution_count": null,
      "outputs": []
    },
    {
      "cell_type": "markdown",
      "metadata": {
        "id": "CN9B3W3jAGBW",
        "colab_type": "text"
      },
      "source": [
        "## **5.1. Data Visualization**"
      ]
    },
    {
      "cell_type": "code",
      "metadata": {
        "id": "zL13CThuAOaA",
        "colab_type": "code",
        "colab": {}
      },
      "source": [
        "def ecdf(data):\n",
        "    import numpy as np\n",
        "    # Empirical Cumulative Distribution Function\n",
        "    \"\"\"Compute ECDF for a one-dimensional array of measurements.\"\"\"\n",
        "    # Number of data points: n\n",
        "    n = len(data)\n",
        "    # x-data for the ECDF: x\n",
        "    x = np.sort(data)\n",
        "    # y-data for the ECDF: y\n",
        "    y = np.arange(1, n+1) / n\n",
        "    return x, y"
      ],
      "execution_count": null,
      "outputs": []
    },
    {
      "cell_type": "code",
      "metadata": {
        "id": "FLAO25aMAemf",
        "colab_type": "code",
        "colab": {}
      },
      "source": [
        "def plot_feature(feature, label_ax):\n",
        "  x_amt_credit, y_amt_credit = ecdf(feature)\n",
        "\n",
        "  # Generate plot\n",
        "  fig, (ax1, ax2) = plt.subplots(1, 2, figsize=(15,5))\n",
        "  fig.suptitle('ECDF vs histogram:'+label_ax)\n",
        "  ax1.plot(x_amt_credit,y_amt_credit, marker='.', linestyle= 'none',color='red')\n",
        "  ax1.set(xlabel=label_ax, ylabel='ECDF')\n",
        "\n",
        "  feature.hist(ax=ax2)\n",
        "  ax2.set(xlabel=label_ax, ylabel='Frequency')\n",
        "\n",
        "  # Display the plot\n",
        "  plt.show()"
      ],
      "execution_count": null,
      "outputs": []
    },
    {
      "cell_type": "markdown",
      "metadata": {
        "id": "tFXP01oWiNss",
        "colab_type": "text"
      },
      "source": [
        "As you can see through the below plot, the distribution of the most important feature doesn't make too much sense. We couldn't apply anymore feature engineering techniques"
      ]
    },
    {
      "cell_type": "code",
      "metadata": {
        "id": "slY43Oyex_Y1",
        "colab_type": "code",
        "cellView": "code",
        "colab": {
          "base_uri": "https://localhost:8080/",
          "height": 371
        },
        "outputId": "a721273d-a70b-48ea-bf86-98485e8fd7e3"
      },
      "source": [
        "#@title 5.1.1. INCOME_PER_PERSON\n",
        "plot_feature(train_df.INCOME_PER_PERSON,label_ax=\"INCOME_PER_PERSON - TRAIN DATASET\")"
      ],
      "execution_count": null,
      "outputs": [
        {
          "output_type": "display_data",
          "data": {
            "image/png": "[encoded data removed]",
            "text/plain": [
              "<Figure size 1080x360 with 2 Axes>"
            ]
          },
          "metadata": {
            "tags": [],
            "needs_background": "light"
          }
        }
      ]
    },
    {
      "cell_type": "code",
      "metadata": {
        "id": "dWZ3LGSnfX-p",
        "colab_type": "code",
        "colab": {
          "base_uri": "https://localhost:8080/",
          "height": 371
        },
        "outputId": "45e8428a-66e4-495e-ecb5-f107a4faf1b7"
      },
      "source": [
        "plot_feature(test_df.INCOME_PER_PERSON,label_ax=\"INCOME_PER_PERSON - TEST DATASET\")"
      ],
      "execution_count": null,
      "outputs": [
        {
          "output_type": "display_data",
          "data": {
            "image/png": "[encoded data removed]",
            "text/plain": [
              "<Figure size 1080x360 with 2 Axes>"
            ]
          },
          "metadata": {
            "tags": [],
            "needs_background": "light"
          }
        }
      ]
    },
    {
      "cell_type": "code",
      "metadata": {
        "id": "zVYzFhnS1Uqb",
        "colab_type": "code",
        "cellView": "code",
        "colab": {
          "base_uri": "https://localhost:8080/",
          "height": 371
        },
        "outputId": "859ea6c1-8f1d-4911-8e58-fb0b6af727e3"
      },
      "source": [
        "#@title **5.1.2. AMT_CREDIT**\n",
        "plot_feature(train_df.AMT_CREDIT,label_ax=\"AMT_CREDIT\")"
      ],
      "execution_count": null,
      "outputs": [
        {
          "output_type": "display_data",
          "data": {
            "image/png": "[encoded data removed]",
            "text/plain": [
              "<Figure size 1080x360 with 2 Axes>"
            ]
          },
          "metadata": {
            "tags": [],
            "needs_background": "light"
          }
        }
      ]
    },
    {
      "cell_type": "markdown",
      "metadata": {
        "id": "RX0MnnFQj6Cu",
        "colab_type": "text"
      },
      "source": [
        "Actually we can see the shape of the plotted feature follows a Power-Log Distribution (stated differetly : long tail). </br>\n",
        "It's a great pratice to attach it with a Log-Transformation, which let us to get it into a transformed Gaussian distribution. "
      ]
    },
    {
      "cell_type": "code",
      "metadata": {
        "id": "bn36WaTkxIFY",
        "colab_type": "code",
        "colab": {
          "base_uri": "https://localhost:8080/",
          "height": 170
        },
        "outputId": "81bba5e7-a80e-4581-9ae6-bd29a4637b47"
      },
      "source": [
        "train_df.AMT_CREDIT.describe().T"
      ],
      "execution_count": null,
      "outputs": [
        {
          "output_type": "execute_result",
          "data": {
            "text/plain": [
              "count    3.075110e+05\n",
              "mean     5.988308e+05\n",
              "std      4.024795e+05\n",
              "min      4.500000e+04\n",
              "25%      2.700000e+05\n",
              "50%      5.135310e+05\n",
              "75%      8.086500e+05\n",
              "max      4.050000e+06\n",
              "Name: AMT_CREDIT, dtype: float64"
            ]
          },
          "metadata": {
            "tags": []
          },
          "execution_count": 22
        }
      ]
    },
    {
      "cell_type": "code",
      "metadata": {
        "id": "vPQo1go8yg48",
        "colab_type": "code",
        "colab": {
          "base_uri": "https://localhost:8080/",
          "height": 241
        },
        "outputId": "a8112a0e-564e-48f7-fc49-110ed538bc85"
      },
      "source": [
        "from sklearn.preprocessing import MinMaxScaler\n",
        "scaler = MinMaxScaler()\n",
        "train_df.AMT_CREDIT = scaler.fit_transform(train_df.loc[:,['AMT_CREDIT']])\n",
        "test_df.AMT_CREDIT = scaler.transform(test_df.loc[:,['AMT_CREDIT']])"
      ],
      "execution_count": null,
      "outputs": [
        {
          "output_type": "stream",
          "text": [
            "/usr/local/lib/python3.6/dist-packages/pandas/core/generic.py:5303: SettingWithCopyWarning: \n",
            "A value is trying to be set on a copy of a slice from a DataFrame.\n",
            "Try using .loc[row_indexer,col_indexer] = value instead\n",
            "\n",
            "See the caveats in the documentation: https://pandas.pydata.org/pandas-docs/stable/user_guide/indexing.html#returning-a-view-versus-a-copy\n",
            "  self[name] = value\n",
            "/usr/local/lib/python3.6/dist-packages/pandas/core/generic.py:5303: SettingWithCopyWarning: \n",
            "A value is trying to be set on a copy of a slice from a DataFrame.\n",
            "Try using .loc[row_indexer,col_indexer] = value instead\n",
            "\n",
            "See the caveats in the documentation: https://pandas.pydata.org/pandas-docs/stable/user_guide/indexing.html#returning-a-view-versus-a-copy\n",
            "  self[name] = value\n"
          ],
          "name": "stderr"
        }
      ]
    },
    {
      "cell_type": "code",
      "metadata": {
        "id": "NsQTsyFymutz",
        "colab_type": "code",
        "colab": {
          "base_uri": "https://localhost:8080/",
          "height": 241
        },
        "outputId": "74ed0c8a-51e2-4ab3-ecef-c78162b77f99"
      },
      "source": [
        "log_scaled_feature, log_trasformer = log_transformation(train_df.AMT_CREDIT)\n",
        "train_df['LOG_AMT_CREDIT'] = log_scaled_feature\n",
        "test_df['LOG_AMT_CREDIT'] = log_trasformer.transform(test_df.loc[:,['AMT_CREDIT']])"
      ],
      "execution_count": null,
      "outputs": [
        {
          "output_type": "stream",
          "text": [
            "/usr/local/lib/python3.6/dist-packages/ipykernel_launcher.py:2: SettingWithCopyWarning: \n",
            "A value is trying to be set on a copy of a slice from a DataFrame.\n",
            "Try using .loc[row_indexer,col_indexer] = value instead\n",
            "\n",
            "See the caveats in the documentation: https://pandas.pydata.org/pandas-docs/stable/user_guide/indexing.html#returning-a-view-versus-a-copy\n",
            "  \n",
            "/usr/local/lib/python3.6/dist-packages/ipykernel_launcher.py:3: SettingWithCopyWarning: \n",
            "A value is trying to be set on a copy of a slice from a DataFrame.\n",
            "Try using .loc[row_indexer,col_indexer] = value instead\n",
            "\n",
            "See the caveats in the documentation: https://pandas.pydata.org/pandas-docs/stable/user_guide/indexing.html#returning-a-view-versus-a-copy\n",
            "  This is separate from the ipykernel package so we can avoid doing imports until\n"
          ],
          "name": "stderr"
        }
      ]
    },
    {
      "cell_type": "code",
      "metadata": {
        "id": "2QfaGu3qnekm",
        "colab_type": "code",
        "colab": {
          "base_uri": "https://localhost:8080/",
          "height": 371
        },
        "outputId": "a927bd00-34ab-4765-d594-aaa4069f3f91"
      },
      "source": [
        "plot_feature(train_df.LOG_AMT_CREDIT,label_ax=\"LOG_AMT_CREDIT - TRAINING DATASET\")"
      ],
      "execution_count": null,
      "outputs": [
        {
          "output_type": "display_data",
          "data": {
            "image/png": "[encoded data removed]",
            "text/plain": [
              "<Figure size 1080x360 with 2 Axes>"
            ]
          },
          "metadata": {
            "tags": [],
            "needs_background": "light"
          }
        }
      ]
    },
    {
      "cell_type": "markdown",
      "metadata": {
        "id": "vWDZ1vrXlmuP",
        "colab_type": "text"
      },
      "source": [
        "Given the Gaussian distribution, we applied some feature engineering techniques in order to throw out the outliers.</br>\n",
        "The outiliers increase the noise for our models as we known."
      ]
    },
    {
      "cell_type": "code",
      "metadata": {
        "id": "p_2lV-YrbK5M",
        "colab_type": "code",
        "colab": {}
      },
      "source": [
        "ninthynine_ci= np.nanpercentile(train_df.LOG_AMT_CREDIT,[0.5,99.5])\n",
        "mean = np.mean(train_df.LOG_AMT_CREDIT)\n",
        "lower = ninthynine_ci[0]\n",
        "upper = ninthynine_ci[1]"
      ],
      "execution_count": null,
      "outputs": []
    },
    {
      "cell_type": "code",
      "metadata": {
        "id": "468mW0NV7L3M",
        "colab_type": "code",
        "colab": {
          "base_uri": "https://localhost:8080/",
          "height": 34
        },
        "outputId": "454f6219-9bf7-4881-b782-e44abd0f0d18"
      },
      "source": [
        "upper_cutted = len(train_df[(train_df.LOG_AMT_CREDIT > upper)==True])\n",
        "lower_cutted = len(train_df[(train_df.LOG_AMT_CREDIT  < lower )==True])\n",
        "print(\"Number of samples changed, cut_off_lower {:d}, cut_of_upper {:d}\".format(lower_cutted, upper_cutted))"
      ],
      "execution_count": null,
      "outputs": [
        {
          "output_type": "stream",
          "text": [
            "Number of samples changed, cut_off_lower 1533, cut_of_upper 1537\n"
          ],
          "name": "stdout"
        }
      ]
    },
    {
      "cell_type": "code",
      "metadata": {
        "id": "B9qVgVKg3RTS",
        "colab_type": "code",
        "colab": {
          "base_uri": "https://localhost:8080/",
          "height": 292
        },
        "outputId": "1829200d-76cf-457e-bcad-0fcb2b2a1fc1"
      },
      "source": [
        "train_df.loc[(train_df['LOG_AMT_CREDIT'] < upper),'LOG_AMT_CREDIT'] = upper\n",
        "train_df.loc[(train_df['LOG_AMT_CREDIT'] > lower),'LOG_AMT_CREDIT'] = lower"
      ],
      "execution_count": null,
      "outputs": [
        {
          "output_type": "stream",
          "text": [
            "/usr/local/lib/python3.6/dist-packages/pandas/core/indexing.py:671: SettingWithCopyWarning: \n",
            "A value is trying to be set on a copy of a slice from a DataFrame\n",
            "\n",
            "See the caveats in the documentation: https://pandas.pydata.org/pandas-docs/stable/user_guide/indexing.html#returning-a-view-versus-a-copy\n",
            "  self._setitem_with_indexer(indexer, value)\n",
            "/usr/local/lib/python3.6/dist-packages/ipykernel_launcher.py:1: SettingWithCopyWarning: \n",
            "A value is trying to be set on a copy of a slice from a DataFrame\n",
            "\n",
            "See the caveats in the documentation: https://pandas.pydata.org/pandas-docs/stable/user_guide/indexing.html#returning-a-view-versus-a-copy\n",
            "  \"\"\"Entry point for launching an IPython kernel.\n",
            "/usr/local/lib/python3.6/dist-packages/ipykernel_launcher.py:2: SettingWithCopyWarning: \n",
            "A value is trying to be set on a copy of a slice from a DataFrame\n",
            "\n",
            "See the caveats in the documentation: https://pandas.pydata.org/pandas-docs/stable/user_guide/indexing.html#returning-a-view-versus-a-copy\n",
            "  \n"
          ],
          "name": "stderr"
        }
      ]
    },
    {
      "cell_type": "code",
      "metadata": {
        "colab_type": "code",
        "cellView": "code",
        "id": "2vr15W_c0Mqi",
        "colab": {
          "base_uri": "https://localhost:8080/",
          "height": 371
        },
        "outputId": "400ec511-9281-452b-8754-c9084ee8119f"
      },
      "source": [
        "  #@title **5.1.3. AMT_GOODS_PRICE**\n",
        "plot_feature(train_df.AMT_GOODS_PRICE,label_ax=\"AMT_GOODS_PRICE - TRAINING DATASET\")"
      ],
      "execution_count": null,
      "outputs": [
        {
          "output_type": "display_data",
          "data": {
            "image/png": "[encoded data removed]",
            "text/plain": [
              "<Figure size 1080x360 with 2 Axes>"
            ]
          },
          "metadata": {
            "tags": [],
            "needs_background": "light"
          }
        }
      ]
    },
    {
      "cell_type": "markdown",
      "metadata": {
        "colab_type": "text",
        "id": "SnLyhytH0Mqn"
      },
      "source": [
        "Actually we can see the shape of the plotted feature follows a Power-Log Distribution (stated differetly : long tail). </br>\n",
        "It's a great pratice to attach it with a Log-Transformation, which let us to get it into a transformed Gaussian distribution. "
      ]
    },
    {
      "cell_type": "code",
      "metadata": {
        "colab_type": "code",
        "id": "wKnPl3jw0Mqr",
        "colab": {
          "base_uri": "https://localhost:8080/",
          "height": 241
        },
        "outputId": "17def460-a6a1-4f7c-c190-fa874b4407fe"
      },
      "source": [
        "from sklearn.preprocessing import MinMaxScaler\n",
        "scaler = MinMaxScaler()\n",
        "train_df.AMT_GOODS_PRICE = scaler.fit_transform(train_df.loc[:,['AMT_GOODS_PRICE']])\n",
        "test_df.AMT_GOODS_PRICE = scaler.transform(test_df.loc[:,['AMT_GOODS_PRICE']])"
      ],
      "execution_count": null,
      "outputs": [
        {
          "output_type": "stream",
          "text": [
            "/usr/local/lib/python3.6/dist-packages/pandas/core/generic.py:5303: SettingWithCopyWarning: \n",
            "A value is trying to be set on a copy of a slice from a DataFrame.\n",
            "Try using .loc[row_indexer,col_indexer] = value instead\n",
            "\n",
            "See the caveats in the documentation: https://pandas.pydata.org/pandas-docs/stable/user_guide/indexing.html#returning-a-view-versus-a-copy\n",
            "  self[name] = value\n",
            "/usr/local/lib/python3.6/dist-packages/pandas/core/generic.py:5303: SettingWithCopyWarning: \n",
            "A value is trying to be set on a copy of a slice from a DataFrame.\n",
            "Try using .loc[row_indexer,col_indexer] = value instead\n",
            "\n",
            "See the caveats in the documentation: https://pandas.pydata.org/pandas-docs/stable/user_guide/indexing.html#returning-a-view-versus-a-copy\n",
            "  self[name] = value\n"
          ],
          "name": "stderr"
        }
      ]
    },
    {
      "cell_type": "code",
      "metadata": {
        "colab_type": "code",
        "id": "A7iANXQF0Mqu",
        "colab": {
          "base_uri": "https://localhost:8080/",
          "height": 241
        },
        "outputId": "0246a678-34f8-405d-c166-4e287e139de6"
      },
      "source": [
        "log_scaled_feature, log_trasformer = log_transformation(train_df.AMT_GOODS_PRICE)\n",
        "train_df['LOG_AMT_GOODS_PRICE'] = log_scaled_feature\n",
        "test_df['LOG_AMT_GOODS_PRICE'] = log_trasformer.transform(test_df.loc[:,['AMT_GOODS_PRICE']])"
      ],
      "execution_count": null,
      "outputs": [
        {
          "output_type": "stream",
          "text": [
            "/usr/local/lib/python3.6/dist-packages/ipykernel_launcher.py:2: SettingWithCopyWarning: \n",
            "A value is trying to be set on a copy of a slice from a DataFrame.\n",
            "Try using .loc[row_indexer,col_indexer] = value instead\n",
            "\n",
            "See the caveats in the documentation: https://pandas.pydata.org/pandas-docs/stable/user_guide/indexing.html#returning-a-view-versus-a-copy\n",
            "  \n",
            "/usr/local/lib/python3.6/dist-packages/ipykernel_launcher.py:3: SettingWithCopyWarning: \n",
            "A value is trying to be set on a copy of a slice from a DataFrame.\n",
            "Try using .loc[row_indexer,col_indexer] = value instead\n",
            "\n",
            "See the caveats in the documentation: https://pandas.pydata.org/pandas-docs/stable/user_guide/indexing.html#returning-a-view-versus-a-copy\n",
            "  This is separate from the ipykernel package so we can avoid doing imports until\n"
          ],
          "name": "stderr"
        }
      ]
    },
    {
      "cell_type": "code",
      "metadata": {
        "colab_type": "code",
        "id": "vqTLrty-0Mq0",
        "colab": {
          "base_uri": "https://localhost:8080/",
          "height": 371
        },
        "outputId": "fedf2cf6-228e-4676-e77e-d0edd727d882"
      },
      "source": [
        "plot_feature(train_df.LOG_AMT_GOODS_PRICE,label_ax=\"LOG_AMT_GOODS_PRICE - TRAINING DATASET\")"
      ],
      "execution_count": null,
      "outputs": [
        {
          "output_type": "display_data",
          "data": {
            "image/png": "[encoded data removed]",
            "text/plain": [
              "<Figure size 1080x360 with 2 Axes>"
            ]
          },
          "metadata": {
            "tags": [],
            "needs_background": "light"
          }
        }
      ]
    },
    {
      "cell_type": "markdown",
      "metadata": {
        "colab_type": "text",
        "id": "vpWC1gZy0Mq5"
      },
      "source": [
        "Given the Gaussian distribution, we applied some feature engineering techniques in order to throw out the outliers.</br>\n",
        "The outiliers increase the noise for our models as we known."
      ]
    },
    {
      "cell_type": "code",
      "metadata": {
        "colab_type": "code",
        "id": "k-0sxaDD0Mq6",
        "colab": {}
      },
      "source": [
        "ninthynine_ci= np.nanpercentile(train_df.LOG_AMT_GOODS_PRICE,[0.5,99.5])\n",
        "mean = np.mean(train_df.LOG_AMT_GOODS_PRICE)\n",
        "lower = ninthynine_ci[0]\n",
        "upper = ninthynine_ci[1]"
      ],
      "execution_count": null,
      "outputs": []
    },
    {
      "cell_type": "code",
      "metadata": {
        "colab_type": "code",
        "id": "LqNM_VIn0Mq9",
        "colab": {
          "base_uri": "https://localhost:8080/",
          "height": 34
        },
        "outputId": "e3b1239c-9dc9-4998-fdb5-b2e028990142"
      },
      "source": [
        "upper_cutted = len(train_df[(train_df.LOG_AMT_GOODS_PRICE > upper)==True])\n",
        "lower_cutted = len(train_df[(train_df.LOG_AMT_GOODS_PRICE  < lower )==True])\n",
        "print(\"Number of samples changed, cut_off_lower {:d}, cut_of_upper {:d}\".format(lower_cutted, upper_cutted))"
      ],
      "execution_count": null,
      "outputs": [
        {
          "output_type": "stream",
          "text": [
            "Number of samples changed, cut_off_lower 1448, cut_of_upper 1431\n"
          ],
          "name": "stdout"
        }
      ]
    },
    {
      "cell_type": "code",
      "metadata": {
        "colab_type": "code",
        "id": "Ud5OWQ5a0MrA",
        "colab": {
          "base_uri": "https://localhost:8080/",
          "height": 292
        },
        "outputId": "77c02a6e-e4e8-4192-d693-ab3b5930a2a5"
      },
      "source": [
        "train_df.loc[(train_df['LOG_AMT_GOODS_PRICE'] < upper),'LOG_AMT_GOODS_PRICE'] = upper\n",
        "train_df.loc[(train_df['LOG_AMT_GOODS_PRICE'] > lower),'LOG_AMT_GOODS_PRICE'] = lower"
      ],
      "execution_count": null,
      "outputs": [
        {
          "output_type": "stream",
          "text": [
            "/usr/local/lib/python3.6/dist-packages/pandas/core/indexing.py:671: SettingWithCopyWarning: \n",
            "A value is trying to be set on a copy of a slice from a DataFrame\n",
            "\n",
            "See the caveats in the documentation: https://pandas.pydata.org/pandas-docs/stable/user_guide/indexing.html#returning-a-view-versus-a-copy\n",
            "  self._setitem_with_indexer(indexer, value)\n",
            "/usr/local/lib/python3.6/dist-packages/ipykernel_launcher.py:1: SettingWithCopyWarning: \n",
            "A value is trying to be set on a copy of a slice from a DataFrame\n",
            "\n",
            "See the caveats in the documentation: https://pandas.pydata.org/pandas-docs/stable/user_guide/indexing.html#returning-a-view-versus-a-copy\n",
            "  \"\"\"Entry point for launching an IPython kernel.\n",
            "/usr/local/lib/python3.6/dist-packages/ipykernel_launcher.py:2: SettingWithCopyWarning: \n",
            "A value is trying to be set on a copy of a slice from a DataFrame\n",
            "\n",
            "See the caveats in the documentation: https://pandas.pydata.org/pandas-docs/stable/user_guide/indexing.html#returning-a-view-versus-a-copy\n",
            "  \n"
          ],
          "name": "stderr"
        }
      ]
    },
    {
      "cell_type": "code",
      "metadata": {
        "id": "bQ9TOAgoow9M",
        "colab_type": "code",
        "cellView": "code",
        "colab": {}
      },
      "source": [
        "#@title 5.2. Select features according to Pearson Correllation\n",
        "def drop_corr_feature(X, threshold):\n",
        "    col_corr = set()  # Set of all the names of deleted columns\n",
        "    corr_matrix = X.corr()\n",
        "    dropped_columns = []\n",
        "    for i in range(len(corr_matrix.columns)):\n",
        "        for j in range(i):\n",
        "            if (corr_matrix.iloc[i, j] >= threshold) and (corr_matrix.columns[j] not in col_corr):\n",
        "                colname = corr_matrix.columns[i]  # getting the name of column\n",
        "                col_corr.add(colname)\n",
        "                if colname in X.columns:\n",
        "                    dropped_columns += [colname]\n",
        "    return dropped_columns"
      ],
      "execution_count": null,
      "outputs": []
    },
    {
      "cell_type": "code",
      "metadata": {
        "id": "7lJmWB8qX706",
        "colab_type": "code",
        "colab": {}
      },
      "source": [
        "correlated_feature = drop_corr_feature(train_df, threshold=0.98)"
      ],
      "execution_count": null,
      "outputs": []
    },
    {
      "cell_type": "code",
      "metadata": {
        "id": "BAxxfid88kNf",
        "colab_type": "code",
        "colab": {}
      },
      "source": [
        "correlated_feature.remove(\"SK_ID_CURR\")"
      ],
      "execution_count": null,
      "outputs": []
    },
    {
      "cell_type": "code",
      "metadata": {
        "id": "7E2NktzZ3NzF",
        "colab_type": "code",
        "colab": {}
      },
      "source": [
        "train_df.drop(columns=correlated_feature,inplace=True)"
      ],
      "execution_count": null,
      "outputs": []
    },
    {
      "cell_type": "code",
      "metadata": {
        "id": "Nqhzayyx9Ir3",
        "colab_type": "code",
        "colab": {}
      },
      "source": [
        "test_df.drop(columns=correlated_feature,inplace=True)"
      ],
      "execution_count": null,
      "outputs": []
    },
    {
      "cell_type": "markdown",
      "metadata": {
        "id": "-lXESVPdUgAQ",
        "colab_type": "text"
      },
      "source": [
        "# **6. Machine Learning Models**"
      ]
    },
    {
      "cell_type": "code",
      "metadata": {
        "id": "Dnza_6JvXTLf",
        "colab_type": "code",
        "colab": {}
      },
      "source": [
        "def k_fold_lgbm(df_train, df_test, folds = 10):\n",
        "  import pickle\n",
        "  from sklearn.model_selection import StratifiedKFold\n",
        "  from lightgbm import LGBMClassifier\n",
        "  \n",
        "  lgb = None\n",
        "\n",
        "  folds = StratifiedKFold(n_splits= folds, shuffle=True, random_state=SEED)\n",
        "  sub_preds = np.zeros(df_test.shape[0])\n",
        "  feats = [f for f in df_train.columns if f not in ['TARGET','SK_ID_CURR','SK_ID_BUREAU','SK_ID_PREV','index']]\n",
        "  \n",
        "\n",
        "  for n_fold, (train_idx, valid_idx) in enumerate(folds.split(df_train[feats], df_train['TARGET'])):\n",
        "      train_x, train_y = df_train[feats].iloc[train_idx], df_train['TARGET'].iloc[train_idx]\n",
        "      valid_x, valid_y = df_train[feats].iloc[valid_idx], df_train['TARGET'].iloc[valid_idx]\n",
        "\n",
        "      lgb = LGBMClassifier(nthread=4, n_estimators=15000, learning_rate=0.02, num_leaves=31,\n",
        "          colsample_bytree=0.85,subsample=0.9, max_depth=8, reg_alpha=0.0420, reg_lambda=0.073,random_state = SEED,\n",
        "          min_split_gain=0.022, min_child_weight=39.32, silent=-1, tree_method='gpu_hist',verbose=300)\n",
        "\n",
        "      lgb.fit(train_x, train_y, eval_set=[(train_x, train_y), (valid_x, valid_y)], \n",
        "          eval_metric= 'auc', verbose= 200, early_stopping_rounds= 100)\n",
        "\n",
        "      sub_preds += lgb.predict_proba(df_test[feats], num_iteration=lgb.best_iteration_)[:, 1] / folds.n_splits\n",
        "\n",
        "      del train_x, train_y, valid_x, valid_y\n",
        "      gc.collect()\n",
        "\n",
        "  df_test['TARGET'] = sub_preds\n",
        "  return df_test"
      ],
      "execution_count": null,
      "outputs": []
    },
    {
      "cell_type": "code",
      "metadata": {
        "id": "OGhzwgVi3hii",
        "colab_type": "code",
        "colab": {
          "base_uri": "https://localhost:8080/",
          "height": 1000
        },
        "outputId": "d674973e-e050-4a07-e393-0883c615f4fa"
      },
      "source": [
        "test_df = k_fold_lgbm(df_train = train_df, df_test = test_df, folds = 10)"
      ],
      "execution_count": null,
      "outputs": [
        {
          "output_type": "stream",
          "text": [
            "Training until validation scores don't improve for 100 rounds.\n",
            "[200]\ttraining's auc: 0.791078\ttraining's binary_logloss: 0.237789\tvalid_1's auc: 0.76879\tvalid_1's binary_logloss: 0.243281\n",
            "[400]\ttraining's auc: 0.811465\ttraining's binary_logloss: 0.229215\tvalid_1's auc: 0.778311\tvalid_1's binary_logloss: 0.239472\n",
            "[600]\ttraining's auc: 0.825121\ttraining's binary_logloss: 0.223761\tvalid_1's auc: 0.782677\tvalid_1's binary_logloss: 0.23803\n",
            "[800]\ttraining's auc: 0.836048\ttraining's binary_logloss: 0.219435\tvalid_1's auc: 0.784406\tvalid_1's binary_logloss: 0.237452\n",
            "[1000]\ttraining's auc: 0.845531\ttraining's binary_logloss: 0.215658\tvalid_1's auc: 0.785662\tvalid_1's binary_logloss: 0.237103\n",
            "[1200]\ttraining's auc: 0.854203\ttraining's binary_logloss: 0.212098\tvalid_1's auc: 0.786083\tvalid_1's binary_logloss: 0.23697\n",
            "Early stopping, best iteration is:\n",
            "[1236]\ttraining's auc: 0.855648\ttraining's binary_logloss: 0.211487\tvalid_1's auc: 0.786275\tvalid_1's binary_logloss: 0.236907\n",
            "Training until validation scores don't improve for 100 rounds.\n",
            "[200]\ttraining's auc: 0.790788\ttraining's binary_logloss: 0.237803\tvalid_1's auc: 0.770153\tvalid_1's binary_logloss: 0.243834\n",
            "[400]\ttraining's auc: 0.811417\ttraining's binary_logloss: 0.229176\tvalid_1's auc: 0.779532\tvalid_1's binary_logloss: 0.239997\n",
            "[600]\ttraining's auc: 0.825267\ttraining's binary_logloss: 0.223613\tvalid_1's auc: 0.783015\tvalid_1's binary_logloss: 0.238623\n",
            "[800]\ttraining's auc: 0.836529\ttraining's binary_logloss: 0.21922\tvalid_1's auc: 0.784192\tvalid_1's binary_logloss: 0.238132\n",
            "[1000]\ttraining's auc: 0.846215\ttraining's binary_logloss: 0.215356\tvalid_1's auc: 0.78516\tvalid_1's binary_logloss: 0.237767\n",
            "[1200]\ttraining's auc: 0.854957\ttraining's binary_logloss: 0.211741\tvalid_1's auc: 0.785515\tvalid_1's binary_logloss: 0.237627\n",
            "[1400]\ttraining's auc: 0.862804\ttraining's binary_logloss: 0.208346\tvalid_1's auc: 0.785829\tvalid_1's binary_logloss: 0.237534\n",
            "[1600]\ttraining's auc: 0.86987\ttraining's binary_logloss: 0.205233\tvalid_1's auc: 0.786358\tvalid_1's binary_logloss: 0.237387\n",
            "[1800]\ttraining's auc: 0.876566\ttraining's binary_logloss: 0.20226\tvalid_1's auc: 0.786493\tvalid_1's binary_logloss: 0.23735\n",
            "Early stopping, best iteration is:\n",
            "[1715]\ttraining's auc: 0.873666\ttraining's binary_logloss: 0.203567\tvalid_1's auc: 0.786577\tvalid_1's binary_logloss: 0.237337\n",
            "Training until validation scores don't improve for 100 rounds.\n",
            "[200]\ttraining's auc: 0.790278\ttraining's binary_logloss: 0.23807\tvalid_1's auc: 0.777141\tvalid_1's binary_logloss: 0.241431\n",
            "[400]\ttraining's auc: 0.8105\ttraining's binary_logloss: 0.229575\tvalid_1's auc: 0.787355\tvalid_1's binary_logloss: 0.236935\n",
            "[600]\ttraining's auc: 0.824435\ttraining's binary_logloss: 0.224079\tvalid_1's auc: 0.791326\tvalid_1's binary_logloss: 0.235308\n",
            "[800]\ttraining's auc: 0.835548\ttraining's binary_logloss: 0.219703\tvalid_1's auc: 0.793112\tvalid_1's binary_logloss: 0.234571\n",
            "[1000]\ttraining's auc: 0.845041\ttraining's binary_logloss: 0.215875\tvalid_1's auc: 0.794187\tvalid_1's binary_logloss: 0.234131\n",
            "[1200]\ttraining's auc: 0.853585\ttraining's binary_logloss: 0.212453\tvalid_1's auc: 0.794877\tvalid_1's binary_logloss: 0.23391\n",
            "[1400]\ttraining's auc: 0.861506\ttraining's binary_logloss: 0.209101\tvalid_1's auc: 0.795512\tvalid_1's binary_logloss: 0.233697\n",
            "[1600]\ttraining's auc: 0.868899\ttraining's binary_logloss: 0.20589\tvalid_1's auc: 0.796007\tvalid_1's binary_logloss: 0.233527\n",
            "Early stopping, best iteration is:\n",
            "[1658]\ttraining's auc: 0.870992\ttraining's binary_logloss: 0.204966\tvalid_1's auc: 0.796051\tvalid_1's binary_logloss: 0.233497\n",
            "Training until validation scores don't improve for 100 rounds.\n",
            "[200]\ttraining's auc: 0.790299\ttraining's binary_logloss: 0.23789\tvalid_1's auc: 0.775689\tvalid_1's binary_logloss: 0.242747\n",
            "[400]\ttraining's auc: 0.811013\ttraining's binary_logloss: 0.229268\tvalid_1's auc: 0.78654\tvalid_1's binary_logloss: 0.238303\n",
            "[600]\ttraining's auc: 0.824927\ttraining's binary_logloss: 0.223742\tvalid_1's auc: 0.79043\tvalid_1's binary_logloss: 0.236742\n",
            "[800]\ttraining's auc: 0.835998\ttraining's binary_logloss: 0.219424\tvalid_1's auc: 0.792608\tvalid_1's binary_logloss: 0.235977\n",
            "[1000]\ttraining's auc: 0.845256\ttraining's binary_logloss: 0.215673\tvalid_1's auc: 0.79355\tvalid_1's binary_logloss: 0.23563\n",
            "Early stopping, best iteration is:\n",
            "[1094]\ttraining's auc: 0.849359\ttraining's binary_logloss: 0.213982\tvalid_1's auc: 0.794078\tvalid_1's binary_logloss: 0.235464\n",
            "Training until validation scores don't improve for 100 rounds.\n",
            "[200]\ttraining's auc: 0.790848\ttraining's binary_logloss: 0.23786\tvalid_1's auc: 0.773233\tvalid_1's binary_logloss: 0.243016\n",
            "[400]\ttraining's auc: 0.811196\ttraining's binary_logloss: 0.229258\tvalid_1's auc: 0.783653\tvalid_1's binary_logloss: 0.238729\n",
            "[600]\ttraining's auc: 0.824914\ttraining's binary_logloss: 0.223763\tvalid_1's auc: 0.787308\tvalid_1's binary_logloss: 0.23727\n",
            "[800]\ttraining's auc: 0.835836\ttraining's binary_logloss: 0.21945\tvalid_1's auc: 0.788863\tvalid_1's binary_logloss: 0.236656\n",
            "[1000]\ttraining's auc: 0.8451\ttraining's binary_logloss: 0.215711\tvalid_1's auc: 0.789623\tvalid_1's binary_logloss: 0.236361\n",
            "[1200]\ttraining's auc: 0.853567\ttraining's binary_logloss: 0.212213\tvalid_1's auc: 0.790368\tvalid_1's binary_logloss: 0.23606\n",
            "[1400]\ttraining's auc: 0.861609\ttraining's binary_logloss: 0.208803\tvalid_1's auc: 0.790697\tvalid_1's binary_logloss: 0.235949\n",
            "[1600]\ttraining's auc: 0.869057\ttraining's binary_logloss: 0.20559\tvalid_1's auc: 0.791005\tvalid_1's binary_logloss: 0.235829\n",
            "[1800]\ttraining's auc: 0.875652\ttraining's binary_logloss: 0.202619\tvalid_1's auc: 0.790971\tvalid_1's binary_logloss: 0.23582\n",
            "Early stopping, best iteration is:\n",
            "[1723]\ttraining's auc: 0.873179\ttraining's binary_logloss: 0.203741\tvalid_1's auc: 0.791204\tvalid_1's binary_logloss: 0.235758\n",
            "Training until validation scores don't improve for 100 rounds.\n",
            "[200]\ttraining's auc: 0.79177\ttraining's binary_logloss: 0.237453\tvalid_1's auc: 0.761854\tvalid_1's binary_logloss: 0.245957\n",
            "[400]\ttraining's auc: 0.812266\ttraining's binary_logloss: 0.228834\tvalid_1's auc: 0.772815\tvalid_1's binary_logloss: 0.242213\n",
            "[600]\ttraining's auc: 0.826104\ttraining's binary_logloss: 0.223295\tvalid_1's auc: 0.777253\tvalid_1's binary_logloss: 0.240896\n",
            "[800]\ttraining's auc: 0.837425\ttraining's binary_logloss: 0.218799\tvalid_1's auc: 0.779407\tvalid_1's binary_logloss: 0.240322\n",
            "[1000]\ttraining's auc: 0.846908\ttraining's binary_logloss: 0.214977\tvalid_1's auc: 0.780446\tvalid_1's binary_logloss: 0.239988\n",
            "[1200]\ttraining's auc: 0.855634\ttraining's binary_logloss: 0.211372\tvalid_1's auc: 0.781223\tvalid_1's binary_logloss: 0.239798\n",
            "[1400]\ttraining's auc: 0.863245\ttraining's binary_logloss: 0.208105\tvalid_1's auc: 0.781334\tvalid_1's binary_logloss: 0.239805\n",
            "Early stopping, best iteration is:\n",
            "[1369]\ttraining's auc: 0.862153\ttraining's binary_logloss: 0.208572\tvalid_1's auc: 0.7814\tvalid_1's binary_logloss: 0.239775\n",
            "Training until validation scores don't improve for 100 rounds.\n",
            "[200]\ttraining's auc: 0.790388\ttraining's binary_logloss: 0.237983\tvalid_1's auc: 0.776877\tvalid_1's binary_logloss: 0.241941\n",
            "[400]\ttraining's auc: 0.811052\ttraining's binary_logloss: 0.229408\tvalid_1's auc: 0.785659\tvalid_1's binary_logloss: 0.237807\n",
            "[600]\ttraining's auc: 0.824813\ttraining's binary_logloss: 0.223926\tvalid_1's auc: 0.788865\tvalid_1's binary_logloss: 0.236486\n",
            "[800]\ttraining's auc: 0.83583\ttraining's binary_logloss: 0.219541\tvalid_1's auc: 0.790247\tvalid_1's binary_logloss: 0.235918\n",
            "[1000]\ttraining's auc: 0.845502\ttraining's binary_logloss: 0.215674\tvalid_1's auc: 0.791255\tvalid_1's binary_logloss: 0.235578\n",
            "[1200]\ttraining's auc: 0.854237\ttraining's binary_logloss: 0.212094\tvalid_1's auc: 0.791574\tvalid_1's binary_logloss: 0.235464\n",
            "Early stopping, best iteration is:\n",
            "[1279]\ttraining's auc: 0.857435\ttraining's binary_logloss: 0.210755\tvalid_1's auc: 0.791852\tvalid_1's binary_logloss: 0.23539\n",
            "Training until validation scores don't improve for 100 rounds.\n",
            "[200]\ttraining's auc: 0.790192\ttraining's binary_logloss: 0.237934\tvalid_1's auc: 0.773883\tvalid_1's binary_logloss: 0.243\n",
            "[400]\ttraining's auc: 0.81111\ttraining's binary_logloss: 0.229296\tvalid_1's auc: 0.783774\tvalid_1's binary_logloss: 0.238884\n",
            "[600]\ttraining's auc: 0.825036\ttraining's binary_logloss: 0.223797\tvalid_1's auc: 0.786632\tvalid_1's binary_logloss: 0.23763\n",
            "[800]\ttraining's auc: 0.836078\ttraining's binary_logloss: 0.219414\tvalid_1's auc: 0.788053\tvalid_1's binary_logloss: 0.237008\n",
            "[1000]\ttraining's auc: 0.845965\ttraining's binary_logloss: 0.215433\tvalid_1's auc: 0.788669\tvalid_1's binary_logloss: 0.236707\n",
            "[1200]\ttraining's auc: 0.854956\ttraining's binary_logloss: 0.211747\tvalid_1's auc: 0.789027\tvalid_1's binary_logloss: 0.236541\n",
            "Early stopping, best iteration is:\n",
            "[1267]\ttraining's auc: 0.85769\ttraining's binary_logloss: 0.210591\tvalid_1's auc: 0.789177\tvalid_1's binary_logloss: 0.236514\n",
            "Training until validation scores don't improve for 100 rounds.\n",
            "[200]\ttraining's auc: 0.791426\ttraining's binary_logloss: 0.237609\tvalid_1's auc: 0.768258\tvalid_1's binary_logloss: 0.244398\n",
            "[400]\ttraining's auc: 0.811563\ttraining's binary_logloss: 0.229071\tvalid_1's auc: 0.778714\tvalid_1's binary_logloss: 0.24033\n",
            "[600]\ttraining's auc: 0.825301\ttraining's binary_logloss: 0.223607\tvalid_1's auc: 0.783177\tvalid_1's binary_logloss: 0.238833\n",
            "[800]\ttraining's auc: 0.836106\ttraining's binary_logloss: 0.219347\tvalid_1's auc: 0.785333\tvalid_1's binary_logloss: 0.238107\n",
            "[1000]\ttraining's auc: 0.845712\ttraining's binary_logloss: 0.21546\tvalid_1's auc: 0.786457\tvalid_1's binary_logloss: 0.237698\n",
            "[1200]\ttraining's auc: 0.85407\ttraining's binary_logloss: 0.211995\tvalid_1's auc: 0.787243\tvalid_1's binary_logloss: 0.237394\n",
            "Early stopping, best iteration is:\n",
            "[1202]\ttraining's auc: 0.854145\ttraining's binary_logloss: 0.211958\tvalid_1's auc: 0.787258\tvalid_1's binary_logloss: 0.237393\n",
            "Training until validation scores don't improve for 100 rounds.\n",
            "[200]\ttraining's auc: 0.791062\ttraining's binary_logloss: 0.237627\tvalid_1's auc: 0.767708\tvalid_1's binary_logloss: 0.244601\n",
            "[400]\ttraining's auc: 0.811499\ttraining's binary_logloss: 0.22908\tvalid_1's auc: 0.778456\tvalid_1's binary_logloss: 0.240386\n",
            "[600]\ttraining's auc: 0.825579\ttraining's binary_logloss: 0.223494\tvalid_1's auc: 0.78256\tvalid_1's binary_logloss: 0.238826\n",
            "[800]\ttraining's auc: 0.836433\ttraining's binary_logloss: 0.219208\tvalid_1's auc: 0.784284\tvalid_1's binary_logloss: 0.238153\n",
            "[1000]\ttraining's auc: 0.846059\ttraining's binary_logloss: 0.215386\tvalid_1's auc: 0.785127\tvalid_1's binary_logloss: 0.237824\n",
            "[1200]\ttraining's auc: 0.854686\ttraining's binary_logloss: 0.211848\tvalid_1's auc: 0.785629\tvalid_1's binary_logloss: 0.237606\n",
            "[1400]\ttraining's auc: 0.862553\ttraining's binary_logloss: 0.208516\tvalid_1's auc: 0.785939\tvalid_1's binary_logloss: 0.23747\n",
            "Early stopping, best iteration is:\n",
            "[1415]\ttraining's auc: 0.863165\ttraining's binary_logloss: 0.208251\tvalid_1's auc: 0.785983\tvalid_1's binary_logloss: 0.23745\n"
          ],
          "name": "stdout"
        },
        {
          "output_type": "stream",
          "text": [
            "/usr/local/lib/python3.6/dist-packages/ipykernel_launcher.py:29: SettingWithCopyWarning: \n",
            "A value is trying to be set on a copy of a slice from a DataFrame.\n",
            "Try using .loc[row_indexer,col_indexer] = value instead\n",
            "\n",
            "See the caveats in the documentation: https://pandas.pydata.org/pandas-docs/stable/user_guide/indexing.html#returning-a-view-versus-a-copy\n"
          ],
          "name": "stderr"
        }
      ]
    },
    {
      "cell_type": "code",
      "metadata": {
        "id": "n5NMlFIK46bg",
        "colab_type": "code",
        "colab": {
          "base_uri": "https://localhost:8080/",
          "height": 139
        },
        "outputId": "71cb393e-73fb-4feb-d656-bcb33df2acc5"
      },
      "source": [
        "test_df.loc[:,['SK_ID_CURR']] = application_test.loc[:,['SK_ID_CURR']]"
      ],
      "execution_count": null,
      "outputs": [
        {
          "output_type": "stream",
          "text": [
            "/usr/local/lib/python3.6/dist-packages/pandas/core/indexing.py:966: SettingWithCopyWarning: \n",
            "A value is trying to be set on a copy of a slice from a DataFrame.\n",
            "Try using .loc[row_indexer,col_indexer] = value instead\n",
            "\n",
            "See the caveats in the documentation: https://pandas.pydata.org/pandas-docs/stable/user_guide/indexing.html#returning-a-view-versus-a-copy\n",
            "  self.obj[item] = s\n"
          ],
          "name": "stderr"
        }
      ]
    },
    {
      "cell_type": "code",
      "metadata": {
        "id": "zYnto9wmdA36",
        "colab_type": "code",
        "colab": {}
      },
      "source": [
        "import pickle\n",
        "imp_pickle_filename = PATH_PICKLE+\"/xgb_model.pkl\"\n",
        "with open(imp_pickle_filename, \"rb\") as imp_pickle:\n",
        "  lgbm = pickle.load(imp_pickle)"
      ],
      "execution_count": null,
      "outputs": []
    },
    {
      "cell_type": "code",
      "metadata": {
        "id": "O7p75ivNdcVZ",
        "colab_type": "code",
        "colab": {}
      },
      "source": [
        "result = list(zip(list(X_train.columns),list(lgbm.feature_importances_)))\n",
        "result.sort(key=lambda x: x[1], reverse=True) \n",
        "result = result[:10]"
      ],
      "execution_count": null,
      "outputs": []
    },
    {
      "cell_type": "code",
      "metadata": {
        "id": "RipUQBe7dX3D",
        "colab_type": "code",
        "colab": {
          "base_uri": "https://localhost:8080/",
          "height": 411
        },
        "outputId": "da967aba-9cab-4579-a55a-5afedef8bafd"
      },
      "source": [
        "import matplotlib.pyplot as plt\n",
        "plt.title(\"LGBM features importance - BEST 10 \")\n",
        "plt.bar(range(len(result)), [val[1] for val in result], align='center')\n",
        "plt.xticks(range(len(result)), [val[0] for val in result])\n",
        "plt.xticks(rotation=70)\n",
        "plt.show()"
      ],
      "execution_count": null,
      "outputs": [
        {
          "output_type": "display_data",
          "data": {
            "image/png": "[encoded data removed]",
            "text/plain": [
              "<Figure size 432x288 with 1 Axes>"
            ]
          },
          "metadata": {
            "tags": [],
            "needs_background": "light"
          }
        }
      ]
    }
  ]
}